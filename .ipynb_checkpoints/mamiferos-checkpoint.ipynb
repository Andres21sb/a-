{
 "cells": [
  {
   "cell_type": "code",
   "execution_count": 62,
   "id": "2399432e",
   "metadata": {},
   "outputs": [],
   "source": [
    "# Quiz a* 21/3/2024\n",
    "#Andrés Méndez Solano 118210401\n",
    "import numpy as np\n",
    "import math "
   ]
  },
  {
   "cell_type": "code",
   "execution_count": 4,
   "id": "531e6a84",
   "metadata": {},
   "outputs": [],
   "source": [
    "# load data\n",
    "data=np.loadtxt('mamiferos_.csv',dtype=str,delimiter=',')"
   ]
  },
  {
   "cell_type": "code",
   "execution_count": 5,
   "id": "69d02a6c",
   "metadata": {},
   "outputs": [],
   "source": [
    "# extract featuyre with index\n",
    "features_index = {n:i for i,n in enumerate(data[0,1:])}"
   ]
  },
  {
   "cell_type": "code",
   "execution_count": 6,
   "id": "3f635108",
   "metadata": {},
   "outputs": [
    {
     "data": {
      "text/plain": [
       "{'vuela': 0, 'ponehuevos': 1, 'nada': 2, 'mamifero': 3}"
      ]
     },
     "execution_count": 6,
     "metadata": {},
     "output_type": "execute_result"
    }
   ],
   "source": [
    "features_index"
   ]
  },
  {
   "cell_type": "code",
   "execution_count": 7,
   "id": "0aa92cb5",
   "metadata": {},
   "outputs": [],
   "source": [
    "def column(f):\n",
    "    return features_index[f]"
   ]
  },
  {
   "cell_type": "code",
   "execution_count": 9,
   "id": "1c155cdb",
   "metadata": {},
   "outputs": [],
   "source": [
    "#mamifero es el target, ignoramos animal\n",
    "x= data[1:,1:].astype(int)"
   ]
  },
  {
   "cell_type": "code",
   "execution_count": 10,
   "id": "11f3ae4d",
   "metadata": {},
   "outputs": [
    {
     "data": {
      "text/plain": [
       "array([[0, 1, 0, 0],\n",
       "       [0, 0, 1, 1],\n",
       "       [0, 0, 1, 1],\n",
       "       [0, 1, 1, 0],\n",
       "       [1, 1, 1, 0],\n",
       "       [0, 1, 1, 1],\n",
       "       [1, 0, 0, 1]])"
      ]
     },
     "execution_count": 10,
     "metadata": {},
     "output_type": "execute_result"
    }
   ],
   "source": [
    "x"
   ]
  },
  {
   "cell_type": "code",
   "execution_count": 19,
   "id": "30cc22de",
   "metadata": {},
   "outputs": [],
   "source": [
    "vuela=x[:,column('vuela')]\n",
    "ponehuevos=x[:,column('ponehuevos')]\n",
    "nada=x[:,column('nada')]\n",
    "mamiferos=x[:,column('mamifero')]"
   ]
  },
  {
   "cell_type": "code",
   "execution_count": 40,
   "id": "05a58165",
   "metadata": {},
   "outputs": [],
   "source": [
    "def probability_distribution(feature_values,target_values):\n",
    "    #return dictionary with probability distribution\n",
    "    #F = feature value\n",
    "    #T = target value\n",
    "    #notF = not feature value\n",
    "    #FyT = feature value and target value\n",
    "    #FynotT = feature value and not target value\n",
    "    #notFyT = not feature value and target value\n",
    "    #notFynotT = not feature value and not target value\n",
    "    p = {}\n",
    "    p['F'] = np.sum(feature_values)/len(feature_values)\n",
    "    p['notF'] = 1-p['F']\n",
    "    p['FyT'] = np.sum(feature_values*target_values)/np.sum(feature_values)\n",
    "    p['FynotT'] = np.sum(feature_values*(1-target_values))/np.sum(feature_values)\n",
    "    p['notFyT'] = np.sum((1-feature_values)*target_values)/np.sum(1-feature_values)\n",
    "    p['notFynotT'] = np.sum((1-feature_values)*(1-target_values))/np.sum(1-feature_values)\n",
    "    return p\n",
    "\n"
   ]
  },
  {
   "cell_type": "code",
   "execution_count": 53,
   "id": "7df84fe8",
   "metadata": {},
   "outputs": [],
   "source": [
    "def entropy(p_d):\n",
    "    #notFynotT can be 0, so a verification is needed\n",
    "    if p_d['notFynotT'] == 0:\n",
    "        return (p_d['F'] * (p_d['FyT'] * np.log2(1 / p_d['FyT']) \n",
    "                            + p_d['FynotT'] * np.log2(1 / p_d['FynotT'])) \n",
    "                + p_d['notF'] * (p_d['notFyT'] * np.log2(1 / p_d['notFyT'])))\n",
    "    else:\n",
    "        return (p_d['F'] * (p_d['FyT'] * np.log2(1 / p_d['FyT']) \n",
    "                        + p_d['FynotT'] * np.log2(1 / p_d['FynotT'])) \n",
    "                 + p_d['notF'] * (p_d['notFyT'] * np.log2(1 / p_d['notFyT']) \n",
    "                             + p_d['notFynotT'] * np.log2(1 / p_d['notFynotT'])))"
   ]
  },
  {
   "cell_type": "code",
   "execution_count": 45,
   "id": "77debba9",
   "metadata": {},
   "outputs": [],
   "source": [
    "def gini(p_d):\n",
    "    return (p_d['F']*(1-(p_d['FyT']**2 + p_d['FynotT']**2))\n",
    "            +p_d['notF']*(1-(p_d['notFyT']**2 + p_d['notFynotT']**2)))"
   ]
  },
  {
   "cell_type": "code",
   "execution_count": 50,
   "id": "1c3c0018",
   "metadata": {},
   "outputs": [],
   "source": [
    "def entropy_distribution(features,target):\n",
    "     # features is an array of features\n",
    "    # target is the target feature\n",
    "    # returns dictionary with entropy of each feature\n",
    "    e = {}\n",
    "    for feature in features:\n",
    "        name = feature[\"name\"]\n",
    "        values = feature[\"values\"]\n",
    "        p_d = probability_distribution(values, target)\n",
    "        e[name] = entropy(p_d)\n",
    "    return e"
   ]
  },
  {
   "cell_type": "code",
   "execution_count": 55,
   "id": "10b617e8",
   "metadata": {},
   "outputs": [],
   "source": [
    "def gini_distribution(features,target):\n",
    "    g={}\n",
    "    for feature in features:\n",
    "        name = feature[\"name\"]\n",
    "        values= feature[\"values\"]\n",
    "        p_d=probability_distribution(values,target)\n",
    "        g[name] = gini(p_d)\n",
    "    return g"
   ]
  },
  {
   "cell_type": "code",
   "execution_count": 59,
   "id": "cfe48759",
   "metadata": {},
   "outputs": [],
   "source": [
    "def a_star(entropy_distribution,gini_distribution):\n",
    "    #entropy_distribution is a dictionary with the entropy of each feature\n",
    "    #gini_distribution is a dictionary with the gini of each feature\n",
    "    #returns the best feature to split the data without using gain\n",
    "    best_feature = \"\"\n",
    "    best_entropy = math.inf\n",
    "    best_gini = math.inf\n",
    "    for feature in entropy_distribution:\n",
    "        if entropy_distribution[feature] < best_entropy:\n",
    "            best_feature = feature\n",
    "            best_entropy = entropy_distribution[feature]\n",
    "    for feature in gini_distribution:\n",
    "        if gini_distribution[feature] < best_gini:\n",
    "            best_feature = feature\n",
    "            best_gini = gini_distribution[feature]\n",
    "    return best_feature"
   ]
  },
  {
   "cell_type": "code",
   "execution_count": 64,
   "id": "8030cbb9",
   "metadata": {},
   "outputs": [],
   "source": [
    "features = [\n",
    "    {\"name\": \"Vuela\", \"values\": vuela},\n",
    "    {\"name\": \"Ponehuevos\", \"values\": ponehuevos},\n",
    "    {\"name\": \"Nada\", \"values\": nada}\n",
    "]"
   ]
  },
  {
   "cell_type": "code",
   "execution_count": 65,
   "id": "4b8252ec",
   "metadata": {},
   "outputs": [
    {
     "name": "stdout",
     "output_type": "stream",
     "text": [
      "Ponehuevos\n"
     ]
    }
   ],
   "source": [
    "print(a_star(entropy_distribution(features,mamiferos),gini_distribution(features,mamiferos)))"
   ]
  },
  {
   "cell_type": "code",
   "execution_count": null,
   "id": "654e1a1a",
   "metadata": {},
   "outputs": [],
   "source": []
  }
 ],
 "metadata": {
  "kernelspec": {
   "display_name": "Python 3 (ipykernel)",
   "language": "python",
   "name": "python3"
  },
  "language_info": {
   "codemirror_mode": {
    "name": "ipython",
    "version": 3
   },
   "file_extension": ".py",
   "mimetype": "text/x-python",
   "name": "python",
   "nbconvert_exporter": "python",
   "pygments_lexer": "ipython3",
   "version": "3.11.5"
  }
 },
 "nbformat": 4,
 "nbformat_minor": 5
}
